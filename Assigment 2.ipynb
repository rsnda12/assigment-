{
 "cells": [
  {
   "cell_type": "markdown",
   "id": "7bac1cd1",
   "metadata": {},
   "source": [
    "## 1.What are the two values of the Boolean data type? How do you write them?"
   ]
  },
  {
   "cell_type": "code",
   "execution_count": 1,
   "id": "9c033cf1",
   "metadata": {},
   "outputs": [],
   "source": [
    "# 1) True and False are the two types of boolean value we write it by True and False"
   ]
  },
  {
   "cell_type": "markdown",
   "id": "fc0229de",
   "metadata": {},
   "source": [
    "## 2. What are the three different types of Boolean operators?"
   ]
  },
  {
   "cell_type": "code",
   "execution_count": null,
   "id": "9f4b741e",
   "metadata": {},
   "outputs": [],
   "source": [
    "# 2) and, or and not are the three type of boolean operaters"
   ]
  },
  {
   "cell_type": "markdown",
   "id": "5add3634",
   "metadata": {},
   "source": [
    "## 3. Make a list of each Boolean operator&#39;s truth tables (i.e. every possible combination of Boolean values for the operator and what it evaluate )."
   ]
  },
  {
   "cell_type": "code",
   "execution_count": null,
   "id": "290eb74d",
   "metadata": {},
   "outputs": [],
   "source": [
    "\n",
    "# 3)\n",
    "# and operator\n",
    "# true and true = true\n",
    "# false and true = false\n",
    "# true and false = false\n",
    "# false and false = false\n",
    "# or operator\n",
    "# true or true = true\n",
    "# false or true = true\n",
    "# false or false = false\n",
    "# true or false = true\n",
    "# not operator\n",
    "# not True = False\n",
    "# not False = True"
   ]
  },
  {
   "cell_type": "markdown",
   "id": "a6055ad6",
   "metadata": {},
   "source": [
    "## 4. What are the values of the following expressions?\n"
   ]
  },
  {
   "cell_type": "code",
   "execution_count": null,
   "id": "d03af411",
   "metadata": {},
   "outputs": [],
   "source": [
    "# (5>4) and (3==5) = False\n",
    "# not (5>4) = False\n",
    "# (5>4) or (3==5) = True\n",
    "# not ((5>4) or (3 == 5)) = False\n",
    "# (True and True) and (True == False) = False\n",
    "# (not False) or (not True) = True\n",
    "\n"
   ]
  },
  {
   "cell_type": "markdown",
   "id": "0272259c",
   "metadata": {},
   "source": [
    "## 5. What are the six comparison operators?\n"
   ]
  },
  {
   "cell_type": "code",
   "execution_count": null,
   "id": "e46af938",
   "metadata": {},
   "outputs": [],
   "source": [
    "# >\n",
    "# <\n",
    "# ==\n",
    "# <=\n",
    "# >=\n",
    "# !="
   ]
  },
  {
   "cell_type": "markdown",
   "id": "b77d84c1",
   "metadata": {},
   "source": [
    "## 6. How do you tell the difference between the equal to and assignment operators?Describe a condition and when you would use one."
   ]
  },
  {
   "cell_type": "code",
   "execution_count": 2,
   "id": "4fe23d6c",
   "metadata": {},
   "outputs": [],
   "source": [
    "# \" = \" is an assigment operator whereas \"==\" is an comparisson operator.\n",
    "# example\n",
    "# a=3 we are assigning a value for a that is 3\n",
    "# 3==a we are comparing whether 3 and value of 'a' are equal.\n",
    "# we will use '==' sign for comparing both the values."
   ]
  },
  {
   "cell_type": "markdown",
   "id": "06879cce",
   "metadata": {},
   "source": [
    "## 7. Identify the three blocks in this code:)"
   ]
  },
  {
   "cell_type": "code",
   "execution_count": 3,
   "id": "524be6f3",
   "metadata": {},
   "outputs": [],
   "source": [
    "# spam = 0\n",
    "# ------first code block--------\n",
    "# if spam == 10:\n",
    "# print(&#39;eggs&#39;)\n",
    "#-------second code block------------\n",
    "# if spam &gt; 5:\n",
    "# print(&#39;bacon&#39;)\n",
    "#----------third code block--------------\n",
    "# else:\n",
    "# print(&#39;ham&#39;)\n",
    "# print(&#39;spam&#39;)\n",
    "# print(&#39;spam&#39;)"
   ]
  },
  {
   "cell_type": "markdown",
   "id": "d04e0f80",
   "metadata": {},
   "source": [
    "## 8. Write code that prints Hello if 1 is stored in spam, prints Howdy if 2 is stored in spam, and prints Greetings! if anything else is stored in spam."
   ]
  },
  {
   "cell_type": "code",
   "execution_count": 6,
   "id": "b471753c",
   "metadata": {},
   "outputs": [
    {
     "name": "stdout",
     "output_type": "stream",
     "text": [
      "Greetings!\n"
     ]
    }
   ],
   "source": [
    "spam=34\n",
    "if spam==1:\n",
    "    print('Hello')\n",
    "elif spam==2:\n",
    "    print('Howdy')\n",
    "else:\n",
    "    print('Greetings!')"
   ]
  },
  {
   "cell_type": "markdown",
   "id": "271843c3",
   "metadata": {},
   "source": [
    "## 9.If your programme is stuck in an endless loop, what keys you’ll press?"
   ]
  },
  {
   "cell_type": "code",
   "execution_count": null,
   "id": "8b13820a",
   "metadata": {},
   "outputs": [],
   "source": [
    "# i will press the interrupt kernel button. The button which is inbetween run and restart button."
   ]
  },
  {
   "cell_type": "markdown",
   "id": "1d46243e",
   "metadata": {},
   "source": [
    "## 10. How can you tell the difference between break and continue?"
   ]
  },
  {
   "cell_type": "code",
   "execution_count": 7,
   "id": "9145cf54",
   "metadata": {},
   "outputs": [],
   "source": [
    "# break will break the entire loop\n",
    "# continue will skip for one particular conditon."
   ]
  },
  {
   "cell_type": "markdown",
   "id": "0a0ef76c",
   "metadata": {},
   "source": [
    "## 11. In a for loop, what is the difference between range(10), range(0, 10), and range(0, 10, 1)?"
   ]
  },
  {
   "cell_type": "code",
   "execution_count": 8,
   "id": "4a59e653",
   "metadata": {},
   "outputs": [],
   "source": [
    "# range(10) only the stop point is mentioned whereas in range(0,10) \n",
    "# start and stop is mentioned range(0,10,1) star stop and step is mentioned."
   ]
  },
  {
   "cell_type": "markdown",
   "id": "d1d4a8df",
   "metadata": {},
   "source": [
    "## 12. Write a short program that prints the numbers 1 to 10 using a for loop. Then write an equivalent program that prints the numbers 1 to 10 using a while loop."
   ]
  },
  {
   "cell_type": "code",
   "execution_count": 11,
   "id": "83c328ba",
   "metadata": {},
   "outputs": [
    {
     "name": "stdout",
     "output_type": "stream",
     "text": [
      "------for loop-------\n",
      "0\n",
      "1\n",
      "2\n",
      "3\n",
      "4\n",
      "5\n",
      "6\n",
      "7\n",
      "8\n",
      "9\n",
      "-----while loop-------\n",
      "0\n",
      "1\n",
      "2\n",
      "3\n",
      "4\n",
      "5\n",
      "6\n",
      "7\n",
      "8\n",
      "9\n",
      "10\n"
     ]
    }
   ],
   "source": [
    "print('------for loop-------')\n",
    "for i in range(10):\n",
    "    print(i)\n",
    "print('-----while loop-------')\n",
    "a=0\n",
    "while a<=10:\n",
    "    print(a)\n",
    "    a=a+1"
   ]
  },
  {
   "cell_type": "markdown",
   "id": "9082f443",
   "metadata": {},
   "source": [
    "## 13. If you had a function named bacon() inside a module named spam, how would you call it after importing spam?\n"
   ]
  },
  {
   "cell_type": "code",
   "execution_count": 12,
   "id": "a46688e6",
   "metadata": {},
   "outputs": [],
   "source": [
    "# import spam\n",
    "# and then just call the function bacon\n",
    "\n",
    "# example\n",
    "# bacon()"
   ]
  },
  {
   "cell_type": "code",
   "execution_count": 14,
   "id": "3b077aa7",
   "metadata": {},
   "outputs": [
    {
     "data": {
      "text/plain": [
       "'C:\\\\Users\\\\LENOVO'"
      ]
     },
     "execution_count": 14,
     "metadata": {},
     "output_type": "execute_result"
    }
   ],
   "source": [
    "pwd()"
   ]
  },
  {
   "cell_type": "code",
   "execution_count": null,
   "id": "052a5232",
   "metadata": {},
   "outputs": [],
   "source": []
  }
 ],
 "metadata": {
  "kernelspec": {
   "display_name": "Python 3 (ipykernel)",
   "language": "python",
   "name": "python3"
  },
  "language_info": {
   "codemirror_mode": {
    "name": "ipython",
    "version": 3
   },
   "file_extension": ".py",
   "mimetype": "text/x-python",
   "name": "python",
   "nbconvert_exporter": "python",
   "pygments_lexer": "ipython3",
   "version": "3.9.13"
  }
 },
 "nbformat": 4,
 "nbformat_minor": 5
}
