{
 "cells": [
  {
   "cell_type": "markdown",
   "id": "bfaa4afb",
   "metadata": {},
   "source": [
    "## 1. Why are functions advantageous to have in your programs?"
   ]
  },
  {
   "cell_type": "code",
   "execution_count": 1,
   "id": "a13bd48a",
   "metadata": {},
   "outputs": [],
   "source": [
    "# Functions are advantageous because we do not want to write the code then and there in the program \n",
    "#instead we can create a function and we can call it when required."
   ]
  },
  {
   "cell_type": "markdown",
   "id": "34f6b8df",
   "metadata": {},
   "source": [
    "## 2.When does the code in a function run: when it&#39;s specified or when it&#39;s called?"
   ]
  },
  {
   "cell_type": "code",
   "execution_count": 3,
   "id": "e69c000f",
   "metadata": {},
   "outputs": [],
   "source": [
    "# Function run when it is called not when it is specified."
   ]
  },
  {
   "cell_type": "markdown",
   "id": "33a6cc94",
   "metadata": {},
   "source": [
    "## 3. What statement creates a function?"
   ]
  },
  {
   "cell_type": "code",
   "execution_count": null,
   "id": "d1242800",
   "metadata": {},
   "outputs": [],
   "source": [
    "# def (function_name):\n",
    "#     with return or print"
   ]
  },
  {
   "cell_type": "markdown",
   "id": "1b5cb735",
   "metadata": {},
   "source": [
    "## 4.What is the difference between a function and a function call?"
   ]
  },
  {
   "cell_type": "code",
   "execution_count": 12,
   "id": "aa9c6c2d",
   "metadata": {},
   "outputs": [
    {
     "name": "stdout",
     "output_type": "stream",
     "text": [
      "12\n",
      "sundar\n"
     ]
    }
   ],
   "source": [
    "# funtion means just a function\n",
    "# for example:\n",
    "#this is just a function\n",
    "def func(a,b):\n",
    "    c=a+b\n",
    "    return c\n",
    "#calling a function means running the function\n",
    "print(func(3,9))\n",
    "print(func('sun','dar'))\n",
    "\n"
   ]
  },
  {
   "cell_type": "markdown",
   "id": "17a98066",
   "metadata": {},
   "source": [
    "## 5. How many global scopes are there in a Python program? How many local scopes?"
   ]
  },
  {
   "cell_type": "code",
   "execution_count": 13,
   "id": "c2666626",
   "metadata": {},
   "outputs": [],
   "source": [
    "# LEGB\n",
    "# local\n",
    "# enclosing local\n",
    "# global \n",
    "# built-in\n",
    "# Therefor there are one global name space and 2 local name spaces."
   ]
  },
  {
   "cell_type": "markdown",
   "id": "e4349c50",
   "metadata": {},
   "source": [
    "## 6. What happens to variables in a local scope when the function call returns?"
   ]
  },
  {
   "cell_type": "code",
   "execution_count": 21,
   "id": "c9073eeb",
   "metadata": {},
   "outputs": [],
   "source": [
    "x=50\n",
    "def func_1():\n",
    "    x=500\n",
    "    return x\n",
    "# As per the LEGB rule the function returns exactly the type of the local name space variable."
   ]
  },
  {
   "cell_type": "markdown",
   "id": "aba47b82",
   "metadata": {},
   "source": [
    "## 7. What is the concept of a return value? Is it possible to have a return value in an expression?"
   ]
  },
  {
   "cell_type": "code",
   "execution_count": 27,
   "id": "73ff405c",
   "metadata": {},
   "outputs": [],
   "source": [
    "# return exactly returns the type of the name space variable. Yes, it is possible to return the value in an expression. \n",
    "def func_3():\n",
    "    x='hi'\n",
    "    y=3+4\n",
    "    return x,y,type(y),type(x)"
   ]
  },
  {
   "cell_type": "code",
   "execution_count": 28,
   "id": "5280cf59",
   "metadata": {},
   "outputs": [
    {
     "data": {
      "text/plain": [
       "('hi', 7, int, str)"
      ]
     },
     "execution_count": 28,
     "metadata": {},
     "output_type": "execute_result"
    }
   ],
   "source": [
    "func_3()"
   ]
  },
  {
   "cell_type": "markdown",
   "id": "3a1576c5",
   "metadata": {},
   "source": [
    "## 8. If a function does not have a return statement, what is the return value of a call to that function?"
   ]
  },
  {
   "cell_type": "code",
   "execution_count": 43,
   "id": "bb5883ca",
   "metadata": {},
   "outputs": [],
   "source": [
    "# if return is not present in the function the function must have print statement in that case the print statement prints\n",
    "# the ouput of the function which is none type. \n",
    "def func_4():\n",
    "    y='hi'+'there'\n",
    "    print(y,type(y))\n",
    "    return y,type(y)"
   ]
  },
  {
   "cell_type": "code",
   "execution_count": 44,
   "id": "5fafad42",
   "metadata": {},
   "outputs": [
    {
     "name": "stdout",
     "output_type": "stream",
     "text": [
      "hithere <class 'str'>\n"
     ]
    },
    {
     "data": {
      "text/plain": [
       "('hithere', str)"
      ]
     },
     "execution_count": 44,
     "metadata": {},
     "output_type": "execute_result"
    }
   ],
   "source": [
    "func_4()"
   ]
  },
  {
   "cell_type": "markdown",
   "id": "5c2c62d6",
   "metadata": {},
   "source": [
    "## 9. How do you make a function variable refer to the global variable?"
   ]
  },
  {
   "cell_type": "code",
   "execution_count": 55,
   "id": "78deefde",
   "metadata": {},
   "outputs": [],
   "source": [
    "a=100\n",
    "def func_5():\n",
    "    global a\n",
    "    return a"
   ]
  },
  {
   "cell_type": "markdown",
   "id": "0fc8df33",
   "metadata": {},
   "source": [
    "## 10. What is the data type of None?"
   ]
  },
  {
   "cell_type": "code",
   "execution_count": 58,
   "id": "973b9a74",
   "metadata": {},
   "outputs": [
    {
     "name": "stdout",
     "output_type": "stream",
     "text": [
      "\n"
     ]
    },
    {
     "data": {
      "text/plain": [
       "NoneType"
      ]
     },
     "execution_count": 58,
     "metadata": {},
     "output_type": "execute_result"
    }
   ],
   "source": [
    "# the data type of none is no data type (nothing)\n",
    "#example:\n",
    "type(print())"
   ]
  },
  {
   "cell_type": "markdown",
   "id": "e19f42b5",
   "metadata": {},
   "source": [
    "## 11. What does the sentence import areallyourpetsnamederic do?"
   ]
  },
  {
   "cell_type": "code",
   "execution_count": 1,
   "id": "a3769824",
   "metadata": {},
   "outputs": [],
   "source": [
    "# import areallyourpetsnamederic meaning i am importing areallyourpetsnamederic module to use the functions available in it. "
   ]
  },
  {
   "cell_type": "markdown",
   "id": "f2140273",
   "metadata": {},
   "source": [
    "## 12. If you had a bacon() feature in a spam module, what would you call it after importing spam?"
   ]
  },
  {
   "cell_type": "code",
   "execution_count": 3,
   "id": "8acc26e7",
   "metadata": {},
   "outputs": [],
   "source": [
    "#import spam\n",
    "# a = spam.bacon()\n",
    "# then after importing spam\n",
    "# we can use it by calling it bacon()"
   ]
  },
  {
   "cell_type": "markdown",
   "id": "026004ac",
   "metadata": {},
   "source": [
    "## 13. What can you do to save a programme from crashing if it encounters an error?"
   ]
  },
  {
   "cell_type": "code",
   "execution_count": 4,
   "id": "26e3fcef",
   "metadata": {},
   "outputs": [],
   "source": [
    "# we can use exceptional handling.\n",
    "# use try and except method.\n"
   ]
  },
  {
   "cell_type": "markdown",
   "id": "e08314c0",
   "metadata": {},
   "source": [
    "## 14. What is the purpose of the try clause? What is the purpose of the except clause?"
   ]
  },
  {
   "cell_type": "code",
   "execution_count": 5,
   "id": "cf42a631",
   "metadata": {},
   "outputs": [],
   "source": [
    "# try clause is used for testing a code\n",
    "# except clause is used to check where the particular error arise in the code. "
   ]
  },
  {
   "cell_type": "code",
   "execution_count": null,
   "id": "9c84c8ce",
   "metadata": {},
   "outputs": [],
   "source": []
  }
 ],
 "metadata": {
  "kernelspec": {
   "display_name": "Python 3 (ipykernel)",
   "language": "python",
   "name": "python3"
  },
  "language_info": {
   "codemirror_mode": {
    "name": "ipython",
    "version": 3
   },
   "file_extension": ".py",
   "mimetype": "text/x-python",
   "name": "python",
   "nbconvert_exporter": "python",
   "pygments_lexer": "ipython3",
   "version": "3.9.13"
  }
 },
 "nbformat": 4,
 "nbformat_minor": 5
}
