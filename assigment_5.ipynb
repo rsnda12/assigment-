{
 "cells": [
  {
   "cell_type": "code",
   "execution_count": 1,
   "id": "0d3e1bb5-b96d-472b-80ff-3e85ca24cd48",
   "metadata": {},
   "outputs": [
    {
     "name": "stdout",
     "output_type": "stream",
     "text": [
      "{}\n"
     ]
    }
   ],
   "source": [
    "# 1) What does an empty dictionary's code look like?\n",
    "a={}\n",
    "print(a)"
   ]
  },
  {
   "cell_type": "code",
   "execution_count": 3,
   "id": "b7f1654e-c958-4285-a339-33dcfffd2f61",
   "metadata": {},
   "outputs": [
    {
     "name": "stdout",
     "output_type": "stream",
     "text": [
      "{'foo': 42}\n"
     ]
    }
   ],
   "source": [
    "# 2) What is the value of a dictionary value with the key foo and the value 42?\n",
    "b={'foo':42}\n",
    "print(b)"
   ]
  },
  {
   "cell_type": "code",
   "execution_count": 5,
   "id": "4237c72a-ee15-4b38-b890-d5fae9f5431c",
   "metadata": {},
   "outputs": [],
   "source": [
    "# 3) What is the most significant distinction between a dictionary and a list?\n",
    "# dictionary have curly brackets and list have square brackets\n",
    "# list are mutable whereas only values in the dictionary are mutable. Keys in the dictionary are immutable."
   ]
  },
  {
   "cell_type": "code",
   "execution_count": 7,
   "id": "cce9ff74-6c5a-4275-873a-cea2cb50b795",
   "metadata": {},
   "outputs": [],
   "source": [
    "# 4) What happens if you try to access spam['foo'] if spam is {bar:100}?\n",
    "# I will get an error."
   ]
  },
  {
   "cell_type": "code",
   "execution_count": 21,
   "id": "5ef43955-75b0-41b3-b697-aab8f852cc6a",
   "metadata": {},
   "outputs": [
    {
     "name": "stdout",
     "output_type": "stream",
     "text": [
      "cat <class 'str'>\n",
      "dict_keys(['cat']) <class 'dict_keys'>\n"
     ]
    }
   ],
   "source": [
    "# 5) If a dictionary is stored in spam, what is the difference between the expressions 'cat' in spam and\n",
    "# 'cat' in spam.keys()?\n",
    "spam='cat'\n",
    "spam_1 = {'cat':1}\n",
    "print(spam,type(spam))\n",
    "print(spam_1.keys(),type(spam_1.keys()))\n",
    "# the type varies in both the cases. In spam ={'cat'} values is a set and in spam_1={'cat':1} the keys are dict_keys."
   ]
  },
  {
   "cell_type": "code",
   "execution_count": 23,
   "id": "f4183853-652b-4d99-b043-b084f875b350",
   "metadata": {},
   "outputs": [
    {
     "name": "stdout",
     "output_type": "stream",
     "text": [
      "cat <class 'str'>\n",
      "dict_keys([1]) <class 'dict_values'>\n"
     ]
    }
   ],
   "source": [
    "# 6) If a dictionary is stored in spam, what is the difference between the expressions 'cat' in spam and\n",
    "# 'cat' in spam.values()?\n",
    "spam='cat'\n",
    "spam_1 = {1:'cat'}\n",
    "print(spam,type(spam))\n",
    "print(spam_1.keys(),type(spam_1.values()))\n",
    "# the type varies in both the cases. In spam ={'cat'} values is set and in spam_1={'cat':1} the values are dict_values."
   ]
  },
  {
   "cell_type": "code",
   "execution_count": 44,
   "id": "bd4ec88b-9507-40ba-957a-0b600f39bc81",
   "metadata": {},
   "outputs": [
    {
     "name": "stdout",
     "output_type": "stream",
     "text": [
      "black\n"
     ]
    }
   ],
   "source": [
    "# 7) What is a shortcut for the following code?\n",
    "# if 'color' not in spam:\n",
    "# spam['color'] = 'black'\n",
    "\n",
    "spam=['red','orange','green']\n",
    "if 'black' not in spam:\n",
    "    spam='black'\n",
    "    print(spam)"
   ]
  },
  {
   "cell_type": "code",
   "execution_count": null,
   "id": "a6bf2d9d-8ac2-4c90-865d-4674076c1dd4",
   "metadata": {},
   "outputs": [],
   "source": [
    "# 8) How do you 'pretty print' dictionary values using which module and function?\n",
    "\n",
    "# for i in dictionary.items()\n",
    "# dictionary_values()"
   ]
  },
  {
   "cell_type": "code",
   "execution_count": 5,
   "id": "9d14949f-84d5-4d60-8703-5fb4aa60ffcd",
   "metadata": {},
   "outputs": [
    {
     "data": {
      "text/plain": [
       "<function dir>"
      ]
     },
     "execution_count": 5,
     "metadata": {},
     "output_type": "execute_result"
    }
   ],
   "source": [
    "dir"
   ]
  },
  {
   "cell_type": "code",
   "execution_count": null,
   "id": "39a5f400-1004-44e4-9b6a-fe060ca2f500",
   "metadata": {},
   "outputs": [],
   "source": []
  }
 ],
 "metadata": {
  "kernelspec": {
   "display_name": "Python 3 (ipykernel)",
   "language": "python",
   "name": "python3"
  },
  "language_info": {
   "codemirror_mode": {
    "name": "ipython",
    "version": 3
   },
   "file_extension": ".py",
   "mimetype": "text/x-python",
   "name": "python",
   "nbconvert_exporter": "python",
   "pygments_lexer": "ipython3",
   "version": "3.12.4"
  }
 },
 "nbformat": 4,
 "nbformat_minor": 5
}
