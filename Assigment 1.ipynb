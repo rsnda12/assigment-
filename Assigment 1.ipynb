{
 "cells": [
  {
   "cell_type": "code",
   "execution_count": 3,
   "metadata": {},
   "outputs": [],
   "source": [
    "# * is an expression\n",
    "# 'hello' is an value\n",
    "#-87.8 is an value\n",
    "# -,+,/ are all expression\n",
    "# 6 is an value"
   ]
  },
  {
   "cell_type": "code",
   "execution_count": 4,
   "metadata": {},
   "outputs": [],
   "source": [
    "# The major difference between string and variable are string is a data type whereas variable can store multiple datatypes.\n",
    "# strings are immutable. variable can be mutable or immutable depending on the data structure.\n"
   ]
  },
  {
   "cell_type": "code",
   "execution_count": 5,
   "metadata": {},
   "outputs": [],
   "source": [
    "#string\n",
    "#integer\n",
    "#float\n",
    "#complex number\n",
    "#boolean"
   ]
  },
  {
   "cell_type": "code",
   "execution_count": 6,
   "metadata": {},
   "outputs": [],
   "source": [
    "# an expression is made up of data types, data structures and mathematical operators.\n",
    "#/ used for division\n",
    "# + used of addition\n",
    "# - used for subtraction\n",
    "# * used for multiplication\n",
    "# // used for eliminating the number after the period. eg 123.123 gets changed into 123\n",
    "# % used to check the remainder\n",
    "# ** used for calculating the power.\n"
   ]
  },
  {
   "cell_type": "code",
   "execution_count": 7,
   "metadata": {},
   "outputs": [],
   "source": [
    "# beacon =23"
   ]
  },
  {
   "cell_type": "code",
   "execution_count": null,
   "metadata": {},
   "outputs": [],
   "source": [
    "#'spamspamspam'\n",
    "#'spamspamspam'"
   ]
  },
  {
   "cell_type": "code",
   "execution_count": 12,
   "metadata": {},
   "outputs": [],
   "source": [
    "# integer cannot be a variable because integer itself is a data type. Whereas eggs can be saved as a varibale whout the quotes on top"
   ]
  },
  {
   "cell_type": "code",
   "execution_count": 13,
   "metadata": {},
   "outputs": [],
   "source": [
    "# integer + integer = integer\n",
    "#integer + float = floating point number\n",
    "# string has to be created in a varibale\n",
    "# string + string = string"
   ]
  },
  {
   "cell_type": "code",
   "execution_count": null,
   "metadata": {},
   "outputs": [],
   "source": [
    "# string can concatinate only with a string not an integer that is the reason we get error whie doing this expression."
   ]
  }
 ],
 "metadata": {
  "kernelspec": {
   "display_name": "Python 3",
   "language": "python",
   "name": "python3"
  },
  "language_info": {
   "codemirror_mode": {
    "name": "ipython",
    "version": 3
   },
   "file_extension": ".py",
   "mimetype": "text/x-python",
   "name": "python",
   "nbconvert_exporter": "python",
   "pygments_lexer": "ipython3",
   "version": "3.7.6"
  }
 },
 "nbformat": 4,
 "nbformat_minor": 4
}
