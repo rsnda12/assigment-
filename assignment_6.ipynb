{
 "cells": [
  {
   "cell_type": "code",
   "execution_count": 1,
   "id": "16839e35-75f2-4bf0-ba14-7738798bf876",
   "metadata": {},
   "outputs": [],
   "source": [
    "# 1. What are escape characters, and how do you use them?\n",
    "\n",
    "# widely used escape characters.\n",
    "#\\n --> for next line.\n",
    "#\\t --> for tab distance.\n",
    "#\\b -->back space\n"
   ]
  },
  {
   "cell_type": "code",
   "execution_count": 5,
   "id": "a72d9836-b024-4ab8-91dc-b787be23753a",
   "metadata": {},
   "outputs": [],
   "source": [
    "#2. What do the escape characters n and t stand for?\n",
    "\n",
    "#\\n for new line.\n",
    "#\\t for tab distance."
   ]
  },
  {
   "cell_type": "code",
   "execution_count": 7,
   "id": "7866563d-bb3d-4ccc-8a9a-42d1fe1d22a9",
   "metadata": {},
   "outputs": [
    {
     "name": "stdout",
     "output_type": "stream",
     "text": [
      "hi how \\ are you?\n"
     ]
    }
   ],
   "source": [
    "#3. What is the way to include backslash characters in a string?\n",
    "\n",
    "print('hi how \\\\ are you?')"
   ]
  },
  {
   "cell_type": "code",
   "execution_count": 17,
   "id": "398ec82b-2b11-4c42-a854-c9b1c7e65fd0",
   "metadata": {},
   "outputs": [
    {
     "name": "stdout",
     "output_type": "stream",
     "text": [
      "Howl's Moving Castle\n"
     ]
    }
   ],
   "source": [
    "#4. The string \"Howl's Moving Castle\" is a correct value. Why isn't the single quote character in the\n",
    "#word Howl's not escaped a problem?\n",
    "\n",
    "# The single quote character in the word Howl's not escaped because in the start and end double quotes are given.\n",
    "print(\"Howl\\'s Moving Castle\")"
   ]
  },
  {
   "cell_type": "code",
   "execution_count": 41,
   "id": "7c37fa2f-e3f2-4114-9a52-170037beaace",
   "metadata": {},
   "outputs": [
    {
     "name": "stdout",
     "output_type": "stream",
     "text": [
      "a\n",
      "b\n",
      "c\n",
      "d\n"
     ]
    }
   ],
   "source": [
    "#5. How do you write a string of newlines if you don't want to use the n character?\n",
    "\n",
    "s=['a','b','c','d']\n",
    "for i in s:\n",
    "    print(i)"
   ]
  },
  {
   "cell_type": "code",
   "execution_count": 54,
   "id": "527f2cf8-5e27-495a-aa8a-5737be65e616",
   "metadata": {},
   "outputs": [],
   "source": [
    "# 6. What are the values of the given expressions?\n",
    "#'Hello, world!'[1]---> 'e'\n",
    "#'Hello, world!'[0:5]---> 'Hello'\n",
    "#'Hello, world!'[:5] ---> 'Hello'\n",
    "#'Hello, world!'[3:] ---> 'lo, world!'"
   ]
  },
  {
   "cell_type": "code",
   "execution_count": null,
   "id": "0a5789a4-14cc-4ca5-a36c-ada84c5677e6",
   "metadata": {},
   "outputs": [],
   "source": [
    "# 7. What are the values of the following expressions?\n",
    "#'Hello'.upper() ---> every character to upper case.\n",
    "#'Hello'.upper().isupper() ---> boolean. Checking whether every case is upper or not.\n",
    "#'Hello'.upper().lower() ---> every character to lower case."
   ]
  },
  {
   "cell_type": "code",
   "execution_count": 56,
   "id": "f4a1ea89-152d-42b9-bc8d-923d33118239",
   "metadata": {},
   "outputs": [],
   "source": [
    "# 8. What are the values of the following expressions?\n",
    "# 'Remember, remember, the fifth of July.'.split() ---> ['Remember,','remember,','the','fifth','of','july.']\n",
    "# ('_').join('There can be only one.'.split()) --->'There_can_be_only_one.'"
   ]
  },
  {
   "cell_type": "code",
   "execution_count": 80,
   "id": "984da508-2fd1-44ea-a2d6-8b1673fbd715",
   "metadata": {},
   "outputs": [
    {
     "name": "stdout",
     "output_type": "stream",
     "text": [
      "_____happy\n",
      "happy_____\n"
     ]
    }
   ],
   "source": [
    "# 9. What are the methods for right-justifying, left-justifying, and centering a string?\n",
    "a=\"happy\"\n",
    "print(a.rjust(10,'_'))\n",
    "b=\"happy\"\n",
    "print(b.ljust(10,'_'))"
   ]
  },
  {
   "cell_type": "code",
   "execution_count": null,
   "id": "20c65313-e2ec-408d-9b56-df1d4f20966c",
   "metadata": {},
   "outputs": [],
   "source": [
    "# 10. What is the best way to remove whitespace characters from the start or end?\n",
    "# answer is strip."
   ]
  },
  {
   "cell_type": "code",
   "execution_count": null,
   "id": "80210561-25e0-48f2-840b-fa9f096f316a",
   "metadata": {},
   "outputs": [],
   "source": []
  }
 ],
 "metadata": {
  "kernelspec": {
   "display_name": "Python 3 (ipykernel)",
   "language": "python",
   "name": "python3"
  },
  "language_info": {
   "codemirror_mode": {
    "name": "ipython",
    "version": 3
   },
   "file_extension": ".py",
   "mimetype": "text/x-python",
   "name": "python",
   "nbconvert_exporter": "python",
   "pygments_lexer": "ipython3",
   "version": "3.12.4"
  }
 },
 "nbformat": 4,
 "nbformat_minor": 5
}
